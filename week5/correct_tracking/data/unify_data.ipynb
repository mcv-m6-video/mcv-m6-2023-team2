{
 "cells": [
  {
   "cell_type": "code",
   "execution_count": 2,
   "id": "ef84b72d-e678-4ff7-bcdb-a934678e0799",
   "metadata": {
    "tags": []
   },
   "outputs": [
    {
     "name": "stdout",
     "output_type": "stream",
     "text": [
      "Collecting pandas\n",
      "  Downloading pandas-2.0.1-cp39-cp39-manylinux_2_17_x86_64.manylinux2014_x86_64.whl (12.4 MB)\n",
      "\u001b[2K     \u001b[38;2;114;156;31m━━━━━━━━━━━━━━━━━━━━━━━━━━━━━━━━━━━━━━━━\u001b[0m \u001b[32m12.4/12.4 MB\u001b[0m \u001b[31m31.5 MB/s\u001b[0m eta \u001b[36m0:00:00\u001b[0mm eta \u001b[36m0:00:01\u001b[0m[36m0:00:01\u001b[0m\n",
      "\u001b[?25hCollecting pytz>=2020.1\n",
      "  Using cached pytz-2023.3-py2.py3-none-any.whl (502 kB)\n",
      "Requirement already satisfied: python-dateutil>=2.8.2 in /home/adri/anaconda3/envs/m5/lib/python3.9/site-packages (from pandas) (2.8.2)\n",
      "Collecting tzdata>=2022.1\n",
      "  Using cached tzdata-2023.3-py2.py3-none-any.whl (341 kB)\n",
      "Requirement already satisfied: numpy>=1.20.3 in /home/adri/anaconda3/envs/m5/lib/python3.9/site-packages (from pandas) (1.24.2)\n",
      "Requirement already satisfied: six>=1.5 in /home/adri/anaconda3/envs/m5/lib/python3.9/site-packages (from python-dateutil>=2.8.2->pandas) (1.16.0)\n",
      "Installing collected packages: pytz, tzdata, pandas\n",
      "Successfully installed pandas-2.0.1 pytz-2023.3 tzdata-2023.3\n"
     ]
    }
   ],
   "source": [
    "!pip install pandas"
   ]
  },
  {
   "cell_type": "code",
   "execution_count": 3,
   "id": "2dfd503a-10e5-45b9-b393-eb28aa93e37a",
   "metadata": {},
   "outputs": [],
   "source": [
    "import pandas as pd\n",
    "import os\n",
    "import numpy as np"
   ]
  },
  {
   "cell_type": "code",
   "execution_count": 4,
   "id": "41bc22c9-fba0-4ca6-a528-054ab2f12acb",
   "metadata": {},
   "outputs": [],
   "source": [
    "headers = ['frame_id', 'track_id', 'X', 'Y', 'W', 'H', 'CONF', 'UNK1', 'UNK2', 'UNK3']\n",
    "frames = []\n",
    "\n",
    "for file in os.listdir('./mc/'):\n",
    "    if not '.txt' in file: continue\n",
    "    frame = pd.read_csv('./mc/' + file, names = headers)\n",
    "    frame = frame.filter(regex='^(?!UNK)')\n",
    "    frame[\"CAM_ID\"] = file.split('.')[0]\n",
    "    frame[\"ID\"] = [f\"{x}_{y}\" for x, y in zip(frame[\"track_id\"], frame[\"frame_id\"])]\n",
    "    \n",
    "    frames.append(frame)\n"
   ]
  },
  {
   "cell_type": "code",
   "execution_count": 5,
   "id": "595e200d-479e-4661-baf5-d7318ac817e8",
   "metadata": {},
   "outputs": [],
   "source": [
    "metaframe = pd.concat(frames)\n",
    "all_cars = list(metaframe[\"track_id\"].unique())"
   ]
  },
  {
   "cell_type": "code",
   "execution_count": 6,
   "id": "38a34f5b-c087-4ada-831b-3919e6009d92",
   "metadata": {},
   "outputs": [],
   "source": [
    "rows = []"
   ]
  },
  {
   "cell_type": "code",
   "execution_count": 7,
   "id": "00529b48-41af-410f-a7c3-155e6ca64f37",
   "metadata": {},
   "outputs": [],
   "source": [
    "def num_cucus(cucu):\n",
    "    return sum([\"<UNK>\" != x[0] for x in cucu])"
   ]
  },
  {
   "cell_type": "code",
   "execution_count": 66,
   "id": "7441f54e-990e-4d16-83ca-684c64203570",
   "metadata": {},
   "outputs": [
    {
     "name": "stdout",
     "output_type": "stream",
     "text": [
      "267\n",
      "504\n",
      "275\n",
      "272\n",
      "389\n",
      "404\n",
      "420\n",
      "414\n",
      "215\n",
      "196\n",
      "224\n",
      "466\n",
      "211\n",
      "224\n",
      "63\n",
      "82\n",
      "147\n",
      "219\n"
     ]
    }
   ],
   "source": [
    "for car in all_cars:\n",
    "    filtered = metaframe[metaframe[\"track_id\"] == car]\n",
    "    track_ids = list(filtered[\"frame_id\"].unique())\n",
    "    print(len(track_ids))\n",
    "    for frame in track_ids:\n",
    "        u = filtered[filtered[\"frame_id\"] == frame]\n",
    "        CAMS = {f\"c{x}gt\": [\"<UNK>\"]*2 for x in [10, 11, 12, 13, 14, 15]}\n",
    "        for cam in CAMS:\n",
    "            rowly = u[u['CAM_ID'] == cam].reset_index()\n",
    "            if len(rowly):\n",
    "                assert len(rowly) == 1\n",
    "                CAMS[cam] = [rowly[\"X\"].loc[0] + .5 * rowly[\"W\"].loc[0], rowly[\"Y\"].loc[0] + .5 * rowly[\"H\"].loc[0]]\n",
    "\n",
    "        newrow = [car, frame,  ]\n",
    "        for cucu in list(CAMS.values()): \n",
    "            #if num_cucus(list(CAMS.values())) > 1:\n",
    "            newrow += cucu\n",
    "        rows.append(newrow)\n",
    "        \n",
    "    "
   ]
  },
  {
   "cell_type": "code",
   "execution_count": 67,
   "id": "5e6192f0-f105-4055-81ec-a2853d96c119",
   "metadata": {},
   "outputs": [],
   "source": [
    "newheaders = [\"track_id\", \"frame_id\",] \n",
    "\n",
    "for cam in CAMS: newheaders += [f\"X_{cam}\", f\"Y_{cam}\",]\n",
    "numheaders = []\n",
    "for cam in CAMS: numheaders += [f\"X_{cam}\", f\"Y_{cam}\",]\n"
   ]
  },
  {
   "cell_type": "code",
   "execution_count": 68,
   "id": "ad2fe1ad-69bf-46a8-b4ac-742042182ac8",
   "metadata": {},
   "outputs": [],
   "source": [
    "bigframe = pd.DataFrame(rows, columns = newheaders)"
   ]
  },
  {
   "cell_type": "code",
   "execution_count": 69,
   "id": "610020d8-9af5-4348-bacd-8c28d0022725",
   "metadata": {},
   "outputs": [
    {
     "data": {
      "text/html": [
       "<div>\n",
       "<style scoped>\n",
       "    .dataframe tbody tr th:only-of-type {\n",
       "        vertical-align: middle;\n",
       "    }\n",
       "\n",
       "    .dataframe tbody tr th {\n",
       "        vertical-align: top;\n",
       "    }\n",
       "\n",
       "    .dataframe thead th {\n",
       "        text-align: right;\n",
       "    }\n",
       "</style>\n",
       "<table border=\"1\" class=\"dataframe\">\n",
       "  <thead>\n",
       "    <tr style=\"text-align: right;\">\n",
       "      <th></th>\n",
       "      <th>track_id</th>\n",
       "      <th>frame_id</th>\n",
       "      <th>X_c10gt</th>\n",
       "      <th>Y_c10gt</th>\n",
       "      <th>X_c11gt</th>\n",
       "      <th>Y_c11gt</th>\n",
       "      <th>X_c12gt</th>\n",
       "      <th>Y_c12gt</th>\n",
       "      <th>X_c13gt</th>\n",
       "      <th>Y_c13gt</th>\n",
       "      <th>X_c14gt</th>\n",
       "      <th>Y_c14gt</th>\n",
       "      <th>X_c15gt</th>\n",
       "      <th>Y_c15gt</th>\n",
       "    </tr>\n",
       "  </thead>\n",
       "  <tbody>\n",
       "    <tr>\n",
       "      <th>4773</th>\n",
       "      <td>258</td>\n",
       "      <td>1892</td>\n",
       "      <td>&lt;UNK&gt;</td>\n",
       "      <td>&lt;UNK&gt;</td>\n",
       "      <td>&lt;UNK&gt;</td>\n",
       "      <td>&lt;UNK&gt;</td>\n",
       "      <td>1649.0</td>\n",
       "      <td>480.5</td>\n",
       "      <td>&lt;UNK&gt;</td>\n",
       "      <td>&lt;UNK&gt;</td>\n",
       "      <td>&lt;UNK&gt;</td>\n",
       "      <td>&lt;UNK&gt;</td>\n",
       "      <td>&lt;UNK&gt;</td>\n",
       "      <td>&lt;UNK&gt;</td>\n",
       "    </tr>\n",
       "    <tr>\n",
       "      <th>4774</th>\n",
       "      <td>258</td>\n",
       "      <td>1893</td>\n",
       "      <td>&lt;UNK&gt;</td>\n",
       "      <td>&lt;UNK&gt;</td>\n",
       "      <td>&lt;UNK&gt;</td>\n",
       "      <td>&lt;UNK&gt;</td>\n",
       "      <td>1651.0</td>\n",
       "      <td>482.5</td>\n",
       "      <td>&lt;UNK&gt;</td>\n",
       "      <td>&lt;UNK&gt;</td>\n",
       "      <td>&lt;UNK&gt;</td>\n",
       "      <td>&lt;UNK&gt;</td>\n",
       "      <td>&lt;UNK&gt;</td>\n",
       "      <td>&lt;UNK&gt;</td>\n",
       "    </tr>\n",
       "    <tr>\n",
       "      <th>4775</th>\n",
       "      <td>258</td>\n",
       "      <td>1894</td>\n",
       "      <td>&lt;UNK&gt;</td>\n",
       "      <td>&lt;UNK&gt;</td>\n",
       "      <td>&lt;UNK&gt;</td>\n",
       "      <td>&lt;UNK&gt;</td>\n",
       "      <td>1653.5</td>\n",
       "      <td>485.0</td>\n",
       "      <td>&lt;UNK&gt;</td>\n",
       "      <td>&lt;UNK&gt;</td>\n",
       "      <td>&lt;UNK&gt;</td>\n",
       "      <td>&lt;UNK&gt;</td>\n",
       "      <td>&lt;UNK&gt;</td>\n",
       "      <td>&lt;UNK&gt;</td>\n",
       "    </tr>\n",
       "    <tr>\n",
       "      <th>4776</th>\n",
       "      <td>258</td>\n",
       "      <td>1895</td>\n",
       "      <td>&lt;UNK&gt;</td>\n",
       "      <td>&lt;UNK&gt;</td>\n",
       "      <td>&lt;UNK&gt;</td>\n",
       "      <td>&lt;UNK&gt;</td>\n",
       "      <td>1655.5</td>\n",
       "      <td>486.0</td>\n",
       "      <td>&lt;UNK&gt;</td>\n",
       "      <td>&lt;UNK&gt;</td>\n",
       "      <td>&lt;UNK&gt;</td>\n",
       "      <td>&lt;UNK&gt;</td>\n",
       "      <td>&lt;UNK&gt;</td>\n",
       "      <td>&lt;UNK&gt;</td>\n",
       "    </tr>\n",
       "    <tr>\n",
       "      <th>4777</th>\n",
       "      <td>258</td>\n",
       "      <td>1896</td>\n",
       "      <td>&lt;UNK&gt;</td>\n",
       "      <td>&lt;UNK&gt;</td>\n",
       "      <td>&lt;UNK&gt;</td>\n",
       "      <td>&lt;UNK&gt;</td>\n",
       "      <td>1655.0</td>\n",
       "      <td>486.5</td>\n",
       "      <td>&lt;UNK&gt;</td>\n",
       "      <td>&lt;UNK&gt;</td>\n",
       "      <td>&lt;UNK&gt;</td>\n",
       "      <td>&lt;UNK&gt;</td>\n",
       "      <td>&lt;UNK&gt;</td>\n",
       "      <td>&lt;UNK&gt;</td>\n",
       "    </tr>\n",
       "    <tr>\n",
       "      <th>...</th>\n",
       "      <td>...</td>\n",
       "      <td>...</td>\n",
       "      <td>...</td>\n",
       "      <td>...</td>\n",
       "      <td>...</td>\n",
       "      <td>...</td>\n",
       "      <td>...</td>\n",
       "      <td>...</td>\n",
       "      <td>...</td>\n",
       "      <td>...</td>\n",
       "      <td>...</td>\n",
       "      <td>...</td>\n",
       "      <td>...</td>\n",
       "      <td>...</td>\n",
       "    </tr>\n",
       "    <tr>\n",
       "      <th>9979</th>\n",
       "      <td>258</td>\n",
       "      <td>2020</td>\n",
       "      <td>&lt;UNK&gt;</td>\n",
       "      <td>&lt;UNK&gt;</td>\n",
       "      <td>1833.5</td>\n",
       "      <td>1039.5</td>\n",
       "      <td>&lt;UNK&gt;</td>\n",
       "      <td>&lt;UNK&gt;</td>\n",
       "      <td>&lt;UNK&gt;</td>\n",
       "      <td>&lt;UNK&gt;</td>\n",
       "      <td>&lt;UNK&gt;</td>\n",
       "      <td>&lt;UNK&gt;</td>\n",
       "      <td>&lt;UNK&gt;</td>\n",
       "      <td>&lt;UNK&gt;</td>\n",
       "    </tr>\n",
       "    <tr>\n",
       "      <th>9980</th>\n",
       "      <td>258</td>\n",
       "      <td>2021</td>\n",
       "      <td>&lt;UNK&gt;</td>\n",
       "      <td>&lt;UNK&gt;</td>\n",
       "      <td>1814.5</td>\n",
       "      <td>1036.5</td>\n",
       "      <td>&lt;UNK&gt;</td>\n",
       "      <td>&lt;UNK&gt;</td>\n",
       "      <td>&lt;UNK&gt;</td>\n",
       "      <td>&lt;UNK&gt;</td>\n",
       "      <td>&lt;UNK&gt;</td>\n",
       "      <td>&lt;UNK&gt;</td>\n",
       "      <td>&lt;UNK&gt;</td>\n",
       "      <td>&lt;UNK&gt;</td>\n",
       "    </tr>\n",
       "    <tr>\n",
       "      <th>9981</th>\n",
       "      <td>258</td>\n",
       "      <td>2022</td>\n",
       "      <td>&lt;UNK&gt;</td>\n",
       "      <td>&lt;UNK&gt;</td>\n",
       "      <td>1814.5</td>\n",
       "      <td>1032.5</td>\n",
       "      <td>&lt;UNK&gt;</td>\n",
       "      <td>&lt;UNK&gt;</td>\n",
       "      <td>&lt;UNK&gt;</td>\n",
       "      <td>&lt;UNK&gt;</td>\n",
       "      <td>&lt;UNK&gt;</td>\n",
       "      <td>&lt;UNK&gt;</td>\n",
       "      <td>&lt;UNK&gt;</td>\n",
       "      <td>&lt;UNK&gt;</td>\n",
       "    </tr>\n",
       "    <tr>\n",
       "      <th>9982</th>\n",
       "      <td>258</td>\n",
       "      <td>2023</td>\n",
       "      <td>&lt;UNK&gt;</td>\n",
       "      <td>&lt;UNK&gt;</td>\n",
       "      <td>1815.0</td>\n",
       "      <td>1031.5</td>\n",
       "      <td>&lt;UNK&gt;</td>\n",
       "      <td>&lt;UNK&gt;</td>\n",
       "      <td>&lt;UNK&gt;</td>\n",
       "      <td>&lt;UNK&gt;</td>\n",
       "      <td>&lt;UNK&gt;</td>\n",
       "      <td>&lt;UNK&gt;</td>\n",
       "      <td>&lt;UNK&gt;</td>\n",
       "      <td>&lt;UNK&gt;</td>\n",
       "    </tr>\n",
       "    <tr>\n",
       "      <th>9983</th>\n",
       "      <td>258</td>\n",
       "      <td>2024</td>\n",
       "      <td>&lt;UNK&gt;</td>\n",
       "      <td>&lt;UNK&gt;</td>\n",
       "      <td>1814.5</td>\n",
       "      <td>1028.5</td>\n",
       "      <td>&lt;UNK&gt;</td>\n",
       "      <td>&lt;UNK&gt;</td>\n",
       "      <td>&lt;UNK&gt;</td>\n",
       "      <td>&lt;UNK&gt;</td>\n",
       "      <td>&lt;UNK&gt;</td>\n",
       "      <td>&lt;UNK&gt;</td>\n",
       "      <td>&lt;UNK&gt;</td>\n",
       "      <td>&lt;UNK&gt;</td>\n",
       "    </tr>\n",
       "  </tbody>\n",
       "</table>\n",
       "<p>438 rows × 14 columns</p>\n",
       "</div>"
      ],
      "text/plain": [
       "      track_id  frame_id X_c10gt Y_c10gt X_c11gt Y_c11gt X_c12gt Y_c12gt   \n",
       "4773       258      1892   <UNK>   <UNK>   <UNK>   <UNK>  1649.0   480.5  \\\n",
       "4774       258      1893   <UNK>   <UNK>   <UNK>   <UNK>  1651.0   482.5   \n",
       "4775       258      1894   <UNK>   <UNK>   <UNK>   <UNK>  1653.5   485.0   \n",
       "4776       258      1895   <UNK>   <UNK>   <UNK>   <UNK>  1655.5   486.0   \n",
       "4777       258      1896   <UNK>   <UNK>   <UNK>   <UNK>  1655.0   486.5   \n",
       "...        ...       ...     ...     ...     ...     ...     ...     ...   \n",
       "9979       258      2020   <UNK>   <UNK>  1833.5  1039.5   <UNK>   <UNK>   \n",
       "9980       258      2021   <UNK>   <UNK>  1814.5  1036.5   <UNK>   <UNK>   \n",
       "9981       258      2022   <UNK>   <UNK>  1814.5  1032.5   <UNK>   <UNK>   \n",
       "9982       258      2023   <UNK>   <UNK>  1815.0  1031.5   <UNK>   <UNK>   \n",
       "9983       258      2024   <UNK>   <UNK>  1814.5  1028.5   <UNK>   <UNK>   \n",
       "\n",
       "     X_c13gt Y_c13gt X_c14gt Y_c14gt X_c15gt Y_c15gt  \n",
       "4773   <UNK>   <UNK>   <UNK>   <UNK>   <UNK>   <UNK>  \n",
       "4774   <UNK>   <UNK>   <UNK>   <UNK>   <UNK>   <UNK>  \n",
       "4775   <UNK>   <UNK>   <UNK>   <UNK>   <UNK>   <UNK>  \n",
       "4776   <UNK>   <UNK>   <UNK>   <UNK>   <UNK>   <UNK>  \n",
       "4777   <UNK>   <UNK>   <UNK>   <UNK>   <UNK>   <UNK>  \n",
       "...      ...     ...     ...     ...     ...     ...  \n",
       "9979   <UNK>   <UNK>   <UNK>   <UNK>   <UNK>   <UNK>  \n",
       "9980   <UNK>   <UNK>   <UNK>   <UNK>   <UNK>   <UNK>  \n",
       "9981   <UNK>   <UNK>   <UNK>   <UNK>   <UNK>   <UNK>  \n",
       "9982   <UNK>   <UNK>   <UNK>   <UNK>   <UNK>   <UNK>  \n",
       "9983   <UNK>   <UNK>   <UNK>   <UNK>   <UNK>   <UNK>  \n",
       "\n",
       "[438 rows x 14 columns]"
      ]
     },
     "execution_count": 69,
     "metadata": {},
     "output_type": "execute_result"
    }
   ],
   "source": [
    "bigframe[bigframe[\"track_id\"] == 258]"
   ]
  },
  {
   "cell_type": "code",
   "execution_count": 70,
   "id": "20393190-39cc-4c31-905a-dbe3d9b18286",
   "metadata": {},
   "outputs": [],
   "source": [
    "stats = {}\n",
    "for H in numheaders:\n",
    "    \n",
    "    indexed = bigframe[H] != '<UNK>'\n",
    "    stats[H] = {\n",
    "    \"mean\": bigframe[indexed][H].mean(),\n",
    "    \"std\": bigframe[indexed][H].std()\n",
    "    }\n",
    "    \n",
    "    #bigframe[H][indexed] = (bigframe[H][indexed] - stats[H]['mean']) /  stats[H]['std']    \n"
   ]
  },
  {
   "cell_type": "code",
   "execution_count": 71,
   "id": "dcad0c3a-3e80-4020-aad2-919277cd32ba",
   "metadata": {},
   "outputs": [
    {
     "data": {
      "text/plain": [
       "795"
      ]
     },
     "execution_count": 71,
     "metadata": {},
     "output_type": "execute_result"
    }
   ],
   "source": [
    "import json\n",
    "open('normalize.json', 'w').write(json.dumps(stats))"
   ]
  },
  {
   "cell_type": "code",
   "execution_count": 72,
   "id": "2f3730ad-8587-4b25-94fa-9d9c6d572cb3",
   "metadata": {},
   "outputs": [],
   "source": [
    "for n in range(len(bigframe)):\n",
    "    if 10 == (sum([x == '<UNK>' for x in (list(bigframe.loc[n]))])):\n",
    "        bigframe = bigframe.drop(n)\n",
    "bigframe = bigframe.reset_index()"
   ]
  },
  {
   "cell_type": "code",
   "execution_count": 73,
   "id": "d0aa26f2-871f-475f-8fa5-be0dfaa87a57",
   "metadata": {},
   "outputs": [],
   "source": [
    "bigframe.to_csv('GT.csv', index = False)"
   ]
  },
  {
   "cell_type": "code",
   "execution_count": 80,
   "id": "a45cc588-a01b-4dcf-9b9b-ddc1d28d8fc6",
   "metadata": {},
   "outputs": [],
   "source": [
    "#### HOMOGRAPHIES ####\n",
    "homographies = {x: {} for x in CAMS}\n",
    "for cam_org in CAMS:\n",
    "    for cam_dst in CAMS:\n",
    "        if cam_org == cam_dst: continue\n",
    "        \n",
    "        frame_coors = bigframe[[f\"X_{cam_org}\", f\"Y_{cam_org}\",f\"X_{cam_dst}\", f\"Y_{cam_dst}\",]]\n",
    "        for n in range(len(frame_coors)):\n",
    "            if sum([x == '<UNK>' for x in (list(frame_coors.loc[n]))]) in (2, 4):\n",
    "                frame_coors = frame_coors.drop(n)\n",
    "        if len(frame_coors) < 8: continue\n",
    "        frame_coors = frame_coors.sample(n = 8).reset_index()\n",
    "\n",
    "        \n",
    "        ## RANDOM SAMPLER, TODO: CHANGE FOR RANSAC\n",
    "        \n",
    "        for n in range(len(frame_coors)):\n",
    "            \n",
    "            pts1 = np.array([(frame_coors.loc[n, f\"X_{cam_org}\"], frame_coors.loc[n, f\"Y_{cam_org}\"], 1) for n in range(len(frame_coors))])\n",
    "            pts2 = np.array([(frame_coors.loc[n, f\"X_{cam_dst}\"], frame_coors.loc[n, f\"Y_{cam_dst}\"], 1) for n in range(len(frame_coors))])\n",
    "                        \n",
    "            # Construct the matrix A\n",
    "            n = pts1.shape[0]\n",
    "            A = np.zeros((2 * n, 9))\n",
    "            for i in range(n):\n",
    "                x, y, _ = pts1[i]\n",
    "                x_prime, y_prime, _ = pts2[i]\n",
    "                A[2 * i] = [x, y, 1, 0, 0, 0, -x_prime * x, -x_prime * y, -x_prime]\n",
    "                A[2 * i + 1] = [0, 0, 0, x, y, 1, -y_prime * x, -y_prime * y, -y_prime]\n",
    "\n",
    "            # Solve the system of linear equations using SVD\n",
    "            U, S, Vh = np.linalg.svd(A)\n",
    "            h = Vh[-1] / Vh[-1, -1]\n",
    "\n",
    "            # Reshape the vector h into a 3x3 matrix H\n",
    "            H = h.reshape((3, 3))\n",
    "\n",
    "            # Normalize the homography matrix\n",
    "            #H /= H[2, 2]\n",
    "            \n",
    "            homographies[cam_org][cam_dst] = H.tolist()"
   ]
  },
  {
   "cell_type": "code",
   "execution_count": 81,
   "id": "5c72ee1c-d203-4124-b0c2-2ad4971e3cc4",
   "metadata": {},
   "outputs": [
    {
     "data": {
      "text/plain": [
       "3908"
      ]
     },
     "execution_count": 81,
     "metadata": {},
     "output_type": "execute_result"
    }
   ],
   "source": [
    "open('homographies.json', 'w').write(json.dumps(homographies))"
   ]
  },
  {
   "cell_type": "code",
   "execution_count": 82,
   "id": "e61e8357-ec2e-4572-b727-ffb924e3d5bd",
   "metadata": {},
   "outputs": [],
   "source": [
    "import cv2\n",
    "\n",
    "vidcap = cv2.VideoCapture('/home/adri/Desktop/master/M6/mcv-m6-2023-team2/data/AICity_S03_c010/vdo.avi') # EL VIDEO AQUÍ\n",
    "success,image = vidcap.read()\n",
    "\n"
   ]
  },
  {
   "cell_type": "code",
   "execution_count": null,
   "id": "3766d224-a397-4392-8f61-c12a542072ce",
   "metadata": {},
   "outputs": [],
   "source": []
  },
  {
   "cell_type": "code",
   "execution_count": 103,
   "id": "5ae0b403-790f-4a5e-8a86-e4f845dd8601",
   "metadata": {
    "tags": []
   },
   "outputs": [
    {
     "data": {
      "image/png": "[encoded data removed]",
      "text/plain": [
       "<Figure size 640x480 with 1 Axes>"
      ]
     },
     "metadata": {},
     "output_type": "display_data"
    }
   ],
   "source": [
    "import matplotlib.pyplot as plt\n",
    "\n",
    "H =  np.array(homographies['c10gt']['c11gt'])\n",
    "im_uwu = cv2.warpPerspective(image, H, (5000, 5000))\n",
    "plt.imshow(im_uwu)\n",
    "plt.show()"
   ]
  },
  {
   "cell_type": "code",
   "execution_count": null,
   "id": "67d267ad-97dd-471b-827e-7d1e17d187f5",
   "metadata": {},
   "outputs": [],
   "source": []
  }
 ],
 "metadata": {
  "kernelspec": {
   "display_name": "Python 3 (ipykernel)",
   "language": "python",
   "name": "python3"
  },
  "language_info": {
   "codemirror_mode": {
    "name": "ipython",
    "version": 3
   },
   "file_extension": ".py",
   "mimetype": "text/x-python",
   "name": "python",
   "nbconvert_exporter": "python",
   "pygments_lexer": "ipython3",
   "version": "3.9.1"
  }
 },
 "nbformat": 4,
 "nbformat_minor": 5
}
